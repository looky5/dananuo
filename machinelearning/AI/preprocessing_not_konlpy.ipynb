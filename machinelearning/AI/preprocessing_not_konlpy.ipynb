{
 "cells": [
  {
   "cell_type": "markdown",
   "metadata": {},
   "source": [
    "# 아래 모든 과정은 상품코드(모델명)로 1차 분류 이후 나머지 것들에 적용해야함."
   ]
  },
  {
   "cell_type": "code",
   "execution_count": null,
   "metadata": {},
   "outputs": [],
   "source": [
    "import pandas as pd\n",
    "import re"
   ]
  },
  {
   "cell_type": "code",
   "execution_count": null,
   "metadata": {
    "scrolled": false
   },
   "outputs": [],
   "source": [
    "outer = pd.read_csv('C:/SSAFY/danawa/openmarket.csv', error_bad_lines=False).fillna('없음')\n",
    "outer"
   ]
  },
  {
   "cell_type": "markdown",
   "metadata": {},
   "source": [
    "# 괄호안에 포함된 값 모두 지우기"
   ]
  },
  {
   "cell_type": "code",
   "execution_count": null,
   "metadata": {},
   "outputs": [],
   "source": [
    "def blankSearch(name, nameLen, stack, blanklist, templist):\n",
    "    for i in range(nameLen):\n",
    "        if name[i] == '(':\n",
    "            stack.append(i)\n",
    "            templist.append(i)\n",
    "        elif name[i] == ')' and len(stack) != 0:\n",
    "            blanklist.append(stack.pop())\n",
    "            blanklist.append(i)\n",
    "\n",
    "    stack = []\n",
    "    templist = []\n",
    "    for i in range(nameLen):\n",
    "        if name[i] == '[':\n",
    "            stack.append(i)\n",
    "            templist.append(i)\n",
    "        elif name[i] == ']' and len(stack) != 0:\n",
    "            blanklist.append(stack.pop())\n",
    "            blanklist.append(i)"
   ]
  },
  {
   "cell_type": "code",
   "execution_count": null,
   "metadata": {},
   "outputs": [],
   "source": [
    "outerlen = 100"
   ]
  },
  {
   "cell_type": "code",
   "execution_count": null,
   "metadata": {
    "scrolled": true
   },
   "outputs": [],
   "source": [
    "codelist = [] # 제품코드 추출할 리스트\n",
    "printlist = []\n",
    "\n",
    "# for i in range(len(outer)): #실제 len\n",
    "for i in range(outerlen): # 테스트용 1000개\n",
    "    name = outer['상품명'][i] # 상품명\n",
    "    nameLen = len(name) # 상품명 길이\n",
    "    \n",
    "    # 괄호 구하기 위한 리스트\n",
    "    stack = []\n",
    "    blanklist = []\n",
    "    templist = []\n",
    "    \n",
    "    blankSearch(name, nameLen, stack, blanklist, templist)\n",
    "    # 괄호 찾고 괄호포함 안의 값 전부 제거\n",
    "    blankLen = len(blanklist)\n",
    "    blankLen = (int)(blankLen/2)\n",
    "    linelist = []\n",
    "    for k in range(blankLen):   # 괄호만큼 돈다.\n",
    "        pre = blanklist[k*2]\n",
    "        post = blanklist[k*2+1]\n",
    "        tempname = name[pre:post+1]\n",
    "        printlist.append(tempname)\n",
    "#         tempname2 = name[pre+1:post]\n",
    "    for word in printlist:\n",
    "        name = name.replace(word, \" \")\n",
    "    name = name.lstrip()\n",
    "    outer['상품명'][i] = name\n"
   ]
  },
  {
   "cell_type": "code",
   "execution_count": null,
   "metadata": {
    "scrolled": true
   },
   "outputs": [],
   "source": [
    "outer['상품명'][0:60]"
   ]
  },
  {
   "cell_type": "code",
   "execution_count": null,
   "metadata": {},
   "outputs": [],
   "source": [
    "outer['상품명']"
   ]
  },
  {
   "cell_type": "markdown",
   "metadata": {},
   "source": [
    "# 괄호 지운 후 상품코드 지우기(형태소 분석기 사용) 2번의 중복으로 코드를 사용. 추후에 안나올때까지 반복하도록 코드 수정 필요\n",
    "# 일단 형태소분석기 사용하지않음..."
   ]
  },
  {
   "cell_type": "code",
   "execution_count": null,
   "metadata": {},
   "outputs": [],
   "source": [
    "# import konlpy\n",
    "# from konlpy.tag import Okt"
   ]
  },
  {
   "cell_type": "code",
   "execution_count": null,
   "metadata": {},
   "outputs": [],
   "source": [
    "# df_name = outer.iloc[:,[2]]\n",
    "# df_len = len(df_name)\n",
    "# df_len = 1000\n",
    "# cnt = 0\n",
    "# example=df_name.head(df_len)\n",
    "# okt = Okt()\n",
    "# p = re.compile('[a-zA-Z]*[0-9]+[a-zA-Z0-9]*[_]?[-]?[/]?[.]?[\\s]?[a-zA-Z]*[0-9]+[a-zA-Z0-9]*[_]?[-]?[/]?[.]?[\\s]?[a-zA-Z]*[0-9]+[a-zA-Z0-9]*')\n",
    "# answer= []\n",
    "# while cnt != df_len:\n",
    "#     strexample = ''.join(example.values[cnt])\n",
    "#     cnt = cnt+1\n",
    "#     phrases = okt.phrases(strexample)\n",
    "#     result = \"\"\n",
    "#     for i in phrases:\n",
    "#         if len(result) < len(i):\n",
    "#             temp = p.search(i)\n",
    "#             if temp != None and len(temp.group()) >= 6:\n",
    "#                 result = temp.group()\n",
    "#     answer.append(result)\n",
    "#     if result != '':\n",
    "#         strexample = strexample.replace(result, \" \")\n",
    "#     outer['상품명'][cnt-1] = strexample\n",
    "\n"
   ]
  },
  {
   "cell_type": "code",
   "execution_count": null,
   "metadata": {},
   "outputs": [],
   "source": [
    "# outer.head(60)"
   ]
  },
  {
   "cell_type": "code",
   "execution_count": null,
   "metadata": {},
   "outputs": [],
   "source": [
    "# df_name = outer.iloc[:,[2]]\n",
    "# print(df_name)\n",
    "# df_len = len(df_name)\n",
    "# df_len = 1000\n",
    "# cnt = 0\n",
    "# example=df_name.head(df_len)\n",
    "# okt = Okt()\n",
    "# p = re.compile('[a-zA-Z]*[0-9]+[a-zA-Z0-9]*[_]?[-]?[\\s]?[a-zA-Z]*[0-9]+[a-zA-Z0-9]*[_]?[-]?[\\s]?[a-zA-Z]*[0-9]+[a-zA-Z0-9]*')\n",
    "# answer= []\n",
    "# while cnt != df_len:\n",
    "#     strexample = ''.join(example.values[cnt])\n",
    "#     cnt = cnt+1\n",
    "#     phrases = okt.phrases(strexample)\n",
    "#     result = \"\"\n",
    "#     for i in phrases:\n",
    "#         if len(result) < len(i):\n",
    "#             temp = p.search(i)\n",
    "#             if temp != None and len(temp.group()) >= 6:\n",
    "#                 result = temp.group()\n",
    "#     answer.append(result)\n",
    "#     if result != '':\n",
    "#         strexample = strexample.replace(result, \" \")\n",
    "#     outer['상품명'][cnt-1] = strexample\n",
    "\n"
   ]
  },
  {
   "cell_type": "code",
   "execution_count": null,
   "metadata": {},
   "outputs": [],
   "source": [
    "# # outer['상품명'][0:1000]\n",
    "# outer.head(60)"
   ]
  },
  {
   "cell_type": "code",
   "execution_count": null,
   "metadata": {
    "scrolled": true
   },
   "outputs": [],
   "source": [
    "df_name = outer.iloc[:,[2]]\n",
    "print(df_name)\n",
    "# df_sample2 = df.iloc[:,[1]]\n",
    "df_len = len(df_name)\n",
    "df_len = 1000\n",
    "cnt = 0\n",
    "example=df_name.head(df_len)\n",
    "p = re.compile('[a-zA-Z]*[0-9]+[a-zA-Z0-9]*[_]?[\\W]?[a-zA-Z]*[0-9]+[a-zA-Z0-9]*[_]?[\\W]?[a-zA-Z]*[0-9]+[a-zA-Z0-9]*')\n",
    "# p = re.compile('[^ ㄱ-ㅣ가-힣]')\n",
    "answer= []\n",
    "while cnt != df_len:\n",
    "    name = example.values[cnt][0]\n",
    "    cnt = cnt+1\n",
    "    res = p.search(name)\n",
    "    if res != None and len(res.group()) >= 5:\n",
    "        name = name.replace(res.group(), \" \")\n",
    "    outer['상품명'][cnt-1] = name"
   ]
  },
  {
   "cell_type": "markdown",
   "metadata": {},
   "source": [
    "# 불용어 사전 등록 및 정규식으로 반복적인 불필요한것 지우기"
   ]
  },
  {
   "cell_type": "code",
   "execution_count": null,
   "metadata": {},
   "outputs": [],
   "source": [
    "relists = []\n",
    "f = open(\"C:/SSAFY/danawa/relist.txt\", 'r', encoding='utf-8')\n",
    "lines = f.read().splitlines()\n",
    "for line in lines:\n",
    "    relists.append(line)\n",
    "f.close()\n",
    "\n",
    "relists\n"
   ]
  },
  {
   "cell_type": "code",
   "execution_count": null,
   "metadata": {},
   "outputs": [],
   "source": [
    "for i in range(df_len):\n",
    "    pro_name = outer['상품명'][i]\n",
    "    for relist in relists:\n",
    "        reg = re.compile(relist)\n",
    "        searching = reg.search(pro_name)\n",
    "        if searching != None:\n",
    "#             print(searching)\n",
    "            if searching.group() != '자카드' or searching.group() != '쟈카드':\n",
    "                outer['상품명'][i] = pro_name.replace(searching.group(), ' ')\n",
    "outer"
   ]
  },
  {
   "cell_type": "code",
   "execution_count": null,
   "metadata": {},
   "outputs": [],
   "source": [
    "outer[0:60]"
   ]
  },
  {
   "cell_type": "code",
   "execution_count": null,
   "metadata": {},
   "outputs": [],
   "source": [
    "\n",
    "# pfw = re.compile(relist[0])\n",
    "# pfw = re.compile('[0-9]{2}[년]?[ ]*[F]+[/]*[W]+')\n",
    "# pss = re.compile('[0-9]{2}[년]?[ ]*[S]+[/]*[S]+')\n",
    "# pspring = re.compile('[0-9]{2}[년]?[ ]*[봄]')\n",
    "# psummer = re.compile('[0-9]{2}[년]?[ ]*[여][름]')\n",
    "# pfall = re.compile('[0-9]{2}[년]?[ ]*[가][을]')\n",
    "# pwinter = re.compile('[0-9]{2}[년]?[ ]*[겨][울]')\n",
    "# pmu = re.compile('[무이자]+[ ]*[0-9]*[ ]*[개월]+')\n",
    "# pbaek = re.compile('[ㄱ-ㅣ가-힣a-zA-Z]{0,4}[백][화][점][ ]?[0-9]?[I]?[I]?[관]?')\n",
    "# poutlet = re.compile('[ㄱ-ㅣ가-힣a-zA-Z]{0,4}[아][웃]?[울]?[렛][ ]?[ㄱ-ㅣ가-힣a-zA-Z]{0,4}[점]?')\n",
    "# pcard = re.compile('[ㄱ-ㅣ가-힣a-zA-Z]{0,4}[카][드][ ]?[0-9.]{0,4}[%]?[ ]?[추]?[가]?[ ]?[할]?[인]?')\n",
    "# pprice = re.compile('[0-9]{0,3}[,]?[.]?[0-9]{3}[원]')\n",
    "# pday = re.compile('[0-9]{1,2}[/][0-9]{1,2}')\n",
    "# pnc = re.compile('[N][C][ㄱ-ㅣ가-힣]{0,4}[점]')\n",
    "# pak = re.compile('[A][K][ㄱ-ㅣ가-힣]{0,4}[점]')\n",
    "# pak2 = re.compile('[A][K][ㄱ-ㅣ가-힣]{0,4}[몰]')\n",
    "# pshin = re.compile('[ㄱ-ㅣ가-힣]{0,4}[신][세][계][ㄱ-ㅣ가-힣]{0,4}')\n",
    "# ppoint = re.compile('[0-9]{0,2}[%]?[ ]?[적][립]')\n",
    "# pcoupon = re.compile('[0-9]{0,2}[%]?[ ]?[쿠][폰]')\n",
    "\n",
    "\n",
    "\n",
    "# stringtest = 'ㅁㄴㅇㄹ20년 FW' # 영어는 upper해줘야함\n",
    "# stringtest2 = '무이자 12 개월'\n",
    "# stringtest3 = '모다아울렛'\n",
    "# stringtest4 = '카드 15.0% 할인'\n",
    "# stringtest5 = '121,123원'\n",
    "# stringtest6 = 'NC강남점'\n",
    "# stringtest7 = 'AK분당점'\n",
    "# stringtest8 = '대구신세계'\n",
    "# stringtest9 = 'AK분당점 비너스 통기성이 좋은 파워넷 무봉제 삼각거들 S-AS'\n",
    "# stringtest10 = '19년 여름'\n",
    "\n",
    "# temp = pak.match(stringtest9)\n",
    "# print(temp.group())\n",
    "# stringtest9 = stringtest9.replace(temp.group(),\"\")\n",
    "# stringtest9 = stringtest9.lstrip()\n",
    "# print(stringtest9)\n",
    "# print(pfw.search(stringtest))\n",
    "# searching = pss.search(stringtest)\n",
    "# print(searching.group())\n",
    "# print(pmu.match(stringtest2))\n",
    "# print(pbaek.match(stringtest3))\n",
    "# print(poutlet.match(stringtest3))\n",
    "# print(pcard.match(stringtest4))\n",
    "# print(pprice.match(stringtest5))\n",
    "# print(pnc.match(stringtest6))\n",
    "# print(pak.match(stringtest7))\n",
    "# print(pshin.match(stringtest8))\n",
    "\n",
    "\n",
    "# 대문자 or 소문자로 전환해서 비교해보기!!!!!!!!!!\n",
    "# 쓸모없을듯..."
   ]
  },
  {
   "cell_type": "code",
   "execution_count": null,
   "metadata": {},
   "outputs": [],
   "source": [
    "# notuse = ['1color', '1colors', '2color', '2colors', '3color', '3colors', '4color', '4colors', 'Thursday', 'SHESMISS', 'HAZZYS', 'JILLSTUART', 'COVETBLAN', 'Akmall', 'MINIMUM', 'KENNETHLADY', 'Stella', 'CJmall', 'BYROEM', 'SISLEY', 'BALENCIAGA', 'McGINN', 'TOMBOY', 'MAGJAY', 'BENETTON', 'IZZATBABA', 'OLIVEDESOLIVE', 'Calvin', 'EGOIST', 'WACOAL', 'VIVIEN', 'SSOROSATE', 'IAMGROUND', 'LUXSENSE', 'ROBERTA', 'HEWULS', 'controlbody', 'conTAGyou', 'kenneth', 'CLRIDE', 'COIINCOS', 'LeShop', 'HARIATO', 'CLOVIS', 'corner', 'THEIZZATCOLLECTION', 'BURBERRY', 'Balenciaga', 'GCUTxJIHI', 'Oilily', 'HangTen', 'OFFWHITE']\n",
    "# notuse = ['AK분당점', 'AK온라인몰', '모다아울렛', '할인쿠폰', '+', '추가할인', '다나와', '광주신세계', '신세계김해점', '사은품'\n",
    "#            ,'증정', '신세계의정부점', '신세계타임스퀘어점패션관', 'AK수원점', '패션전문몰', 'NO.1', 'Akmall', '마산점', '무료배송'\n",
    "#            , '무다아울렛대구점', '온라인몰', '패션전문', '신세계본점', '현대Hmall', '천호점', '베스트', '패션플러스', '감성의'\n",
    "#            , '스마트한', '쇼핑공간', '사은품 증정', '♥', '삼성카드', '사은품증정', '이월상품', '2종', '택1', 'AK플라자', '할인쿠폰'\n",
    "#            , '양말증정', '신상', '센텀시티점', '하남점', '사은품증정', '할인쿠폰', 'VIP', 'W몰', '현대Hmall', '브이아이피', '롯데몰'\n",
    "#            , '시즌오프', '롯데아이몰', '19여름신상', 'S/S상품', '★', '최대', '최소', '모바일바로접속시', '신청必', '미아점', '부산점'\n",
    "#            , '해외직배송', '해외', '배송', '◆', '당일', '갤러리아', '4가지색상', '신상', 'Hmall', 'NC', 'NO.1', '패션전문', '온라인몰'\n",
    "#            , '빠소97안양점', '시흥점', '롯데아이몰', '단독', '온세상쿠폰', '증정', '해외명품', '*', '패션플러스', 'DB_', '업데이트'\n",
    "#            , '맞는', '예상', '~', '@', '특가', '좋아요', ' 넘 ', '소재너무좋아요', '!', '-', '여름을', '이지웨어신혼여행', '전사이즈입고'\n",
    "#            , '입고', '앙젖꼭띠', '운동할때', '+', '날씨와', '기분에', '다양하게', '착용할', ' 수 ', ' 굿 ', '입기좋아', '데..', '정가'\n",
    "#            , '가성비굿', '男女공용', '강조문구', '쇼핑점', '_', '#', '$', '%', '^', '필수내의', '겸용으로', '남성..', '(의정...'\n",
    "#            , '新', '와..', '【럭스보이♥당일】', '땀의흡수', '땀흡수', '빠르고', '잘말라', '잘되는', '여름에착용좋은', '2종택1)'\n",
    "#            , '엉덩이예쁜', '가장하드한', '1color', '1colors', '2color', '2colors', '3color', '3colors', '4color', '4colors'\n",
    "#            , '눌러주고', '올려주는', '가슴이편안한', '하프클럽', '보이지 않게', '보이지않는', '부각되어', '보이지않', '가슴이'\n",
    "#            , '엉밑살까지', '싸악', '잡아주는', '모시느낌의', '힙업기능과', '기능과', '호흡하는', '편안한착용감', '편안한 착용감', ' 의 '\n",
    "#            , '국산중년', '추가할인', '판매1위', '일제보다', '더욱', '국내생산', '가격인하', '단독특가', '단독', '특가', '빵빵한'\n",
    "#            , '접수가능', '실속패키지', '본사직영', '배색감의', '부착하여', '사로잡는', '열을잡는', '이월', '실사프린터', '완벽탈출'\n",
    "#            , '작업', '벗겨지지', '체온유지', '양말증정', '생일선물', '최강핏감', '겨울필수', '적극추천', '구매합산', '로맨틱한', '단독'\n",
    "#            , '주닉스', '당일', '당일발송', '발송', '당일출고', '익일발송', '추가할인', '익일', '쇼핑리더', '빈티지청바지', '똥배눌러주는'\n",
    "#            , '먹티', '붙는옷', '살걱정없는', '스윗셔츠', '차단시켜주는', '듬직체크', '선판매', '허릿단', '상품권증정', '상품권', '증정'\n",
    "#            , '착용!', '품절대란', '미포함', '달라붙지않아', '주었으며', '재킷종결', '엄마선물로', '추가할인', '여름특가', '천사의아이콘'\n",
    "#            , '제주몰', '무료배송', '마지막재입고', '재입고', '☞소뇨본점☜', '☜', '☞', '랜덤발송', '색상랜덤발송', '포기못해!!가볍고'\n",
    "#            , '생일선물', '할인을!!!', '땀많이', '할인상품!~~', '발수기능을더한', '구비해둬야지', '한국어', '기능짱짱', '핫신상', '일교차가'\n",
    "#           ]\n",
    "\n",
    "# color는 양쪽에서 다 지우기?\n",
    "\n",
    "notuses = []\n",
    "f = open(\"C:/SSAFY/danawa/notuse.txt\", 'r')\n",
    "lines = f.read().splitlines()\n",
    "for line in lines:\n",
    "    notuses.append(line)\n",
    "f.close()\n",
    "\n",
    "notuses"
   ]
  },
  {
   "cell_type": "markdown",
   "metadata": {},
   "source": [
    "# 내부데이터에서 브랜드 리스트 뽑아내고 중복제거(총1515개)"
   ]
  },
  {
   "cell_type": "code",
   "execution_count": null,
   "metadata": {},
   "outputs": [],
   "source": [
    "inner = pd.read_csv('C:/SSAFY/danawa/product.csv', error_bad_lines=False).fillna('없음')\n",
    "inner"
   ]
  },
  {
   "cell_type": "code",
   "execution_count": null,
   "metadata": {},
   "outputs": [],
   "source": [
    "import numpy"
   ]
  },
  {
   "cell_type": "code",
   "execution_count": null,
   "metadata": {},
   "outputs": [],
   "source": [
    "brandlists = numpy.array(inner['브랜드'])\n",
    "brandlists\n",
    "len(brandlists)"
   ]
  },
  {
   "cell_type": "code",
   "execution_count": null,
   "metadata": {},
   "outputs": [],
   "source": [
    "brandlist_set = set(brandlists)\n",
    "brandlist_set\n",
    "len(brandlist_set)"
   ]
  },
  {
   "cell_type": "code",
   "execution_count": null,
   "metadata": {},
   "outputs": [],
   "source": [
    "brandlists = list(brandlist_set)"
   ]
  },
  {
   "cell_type": "code",
   "execution_count": null,
   "metadata": {},
   "outputs": [],
   "source": [
    "for i in range(df_len):\n",
    "# for i in range(51):\n",
    "    pro_name = outer['상품명'][i]\n",
    "    for notuse in notuses:\n",
    "        if notuse.upper() in pro_name.upper():\n",
    "            pro_name = pro_name.upper().replace(notuse.upper(), ' ')\n",
    "    for brandlist in brandlists:\n",
    "        if brandlist.upper() in pro_name.upper():\n",
    "            pro_name = pro_name.upper().replace(brandlist.upper(), ' ')\n",
    "    pro_name = ' '.join(pro_name.split())\n",
    "    outer['상품명'][i] = pro_name"
   ]
  },
  {
   "cell_type": "code",
   "execution_count": null,
   "metadata": {
    "scrolled": true
   },
   "outputs": [],
   "source": [
    "outer['상품명'][0:60]"
   ]
  }
 ],
 "metadata": {
  "kernelspec": {
   "display_name": "Python 3",
   "language": "python",
   "name": "python3"
  },
  "language_info": {
   "codemirror_mode": {
    "name": "ipython",
    "version": 3
   },
   "file_extension": ".py",
   "mimetype": "text/x-python",
   "name": "python",
   "nbconvert_exporter": "python",
   "pygments_lexer": "ipython3",
   "version": "3.6.12"
  }
 },
 "nbformat": 4,
 "nbformat_minor": 4
}
