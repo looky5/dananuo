{
 "cells": [
  {
   "cell_type": "code",
   "execution_count": 27,
   "metadata": {},
   "outputs": [
    {
     "name": "stdout",
     "output_type": "stream",
     "text": [
      "1.15.0\n"
     ]
    }
   ],
   "source": [
    "import tensorflow as tf\n",
    "print(tf.__version__)"
   ]
  },
  {
   "cell_type": "code",
   "execution_count": 28,
   "metadata": {},
   "outputs": [],
   "source": [
    "import numpy as np\n",
    "import pandas as pd\n",
    "import csv"
   ]
  },
  {
   "cell_type": "markdown",
   "metadata": {},
   "source": [
    "# 데이터\n",
    "##### df_product\n",
    "##### df_openmarket\n",
    "##### df_link"
   ]
  },
  {
   "cell_type": "code",
   "execution_count": 29,
   "metadata": {},
   "outputs": [],
   "source": [
    "product_data = pd.read_csv('./data/product.csv').fillna('없음')\n",
    "df_product = pd.DataFrame(product_data)"
   ]
  },
  {
   "cell_type": "code",
   "execution_count": 30,
   "metadata": {},
   "outputs": [],
   "source": [
    "openmarket_data = pd.read_csv('./data/test_openmarket.csv', error_bad_lines=False).fillna('없음')\n",
    "df_openmarket = pd.DataFrame(openmarket_data)\n",
    "# df_openmarket = df_openmarket.rename(columns = {'제휴사 코드':'AFcode', '상품 코드':'OMcode'})\""
   ]
  },
  {
   "cell_type": "code",
   "execution_count": 31,
   "metadata": {
    "scrolled": true
   },
   "outputs": [],
   "source": [
    "# df_openmarket = df_openmarket.head(1000)\n",
    "# df_openmarket"
   ]
  },
  {
   "cell_type": "code",
   "execution_count": 32,
   "metadata": {},
   "outputs": [],
   "source": [
    "#링크데이터\n",
    "link_data = pd.read_csv('./data/linkinfo.csv')\n",
    "df_link = pd.DataFrame(link_data)"
   ]
  },
  {
   "cell_type": "markdown",
   "metadata": {},
   "source": [
    "# 테스트를 위한 데이터 추출"
   ]
  },
  {
   "cell_type": "code",
   "execution_count": 33,
   "metadata": {},
   "outputs": [
    {
     "name": "stdout",
     "output_type": "stream",
     "text": [
      "Cell took 27.55 seconds to run.\n"
     ]
    }
   ],
   "source": [
    "import time\n",
    "start = time.time()\n",
    "\n",
    "product_list = [] #입력 100개에 대한 정답 내부데이터\\n\",\n",
    "for openmarket_code in df_openmarket['상품 코드']:\n",
    "    temp = []\n",
    "    link = df_link[df_link['제휴사 상품 코드'] == openmarket_code]\n",
    "    product_code = link.iloc[0,0]\n",
    "    code = df_product[df_product['상품 코드'] == product_code]\n",
    "    temp.append(code['상품 코드'].iloc[0])\n",
    "    temp.append(code['상품명'].iloc[0])\n",
    "    temp.append(code['제조사'].iloc[0])\n",
    "    temp.append(code['브랜드'].iloc[0])\n",
    "    temp.append(code['이미지 URL'].iloc[0])\n",
    "    temp.append(code['대분류 카테고리명'].iloc[0])\n",
    "    temp.append(code['중분류 카테고리명'].iloc[0])\n",
    "    temp.append(code['소분류 카테고리명'].iloc[0])\n",
    "    temp.append(code['세분류 카테고리명'].iloc[0])\n",
    "    temp.append(code['간략설명'].iloc[0])\n",
    "    product_list.append(temp)\n",
    "#     print(df_product['상품 코드'])\n",
    "print ('Cell took %.2f seconds to run.' %(time.time() - start))"
   ]
  },
  {
   "cell_type": "code",
   "execution_count": 34,
   "metadata": {},
   "outputs": [],
   "source": [
    "# product_list"
   ]
  },
  {
   "cell_type": "code",
   "execution_count": 35,
   "metadata": {},
   "outputs": [],
   "source": [
    "df_product = pd.DataFrame(product_list, columns=[\"상품 코드\",\"상품명\",\"제조사\",\"브랜드\",\"이미지 URL\",\"대분류 카테고리명\",\"중분류 카테고리명\",\"소분류 카테고리명\",\"세분류 카테고리명\",\"간략설명\"])\n",
    "# df_product"
   ]
  },
  {
   "cell_type": "markdown",
   "metadata": {},
   "source": [
    "# word2vec"
   ]
  },
  {
   "cell_type": "markdown",
   "metadata": {},
   "source": [
    "### 상품명, 단어 추출\n",
    "##### 상품명: product_name, openmarket_name\n",
    "##### 단어: product_words, openmarket_words"
   ]
  },
  {
   "cell_type": "code",
   "execution_count": 36,
   "metadata": {},
   "outputs": [],
   "source": [
    "product_array = df_product.to_numpy()\n",
    "openmarket_array = df_openmarket.to_numpy()"
   ]
  },
  {
   "cell_type": "markdown",
   "metadata": {},
   "source": [
    "#### 상품명 제품코드 제거"
   ]
  },
  {
   "cell_type": "code",
   "execution_count": 37,
   "metadata": {},
   "outputs": [],
   "source": [
    "import re\n",
    "p = re.compile('[a-zA-Z]*[0-9]+[a-zA-Z0-9]*[-]?[_]?[s]?[a-zA-Z]*[0-9]+[a-zA-Z0-9]*[-]?[_]?[s]?[a-zA-Z]*[0-9]+[a-zA-Z0-9]*')\n",
    "for i, product in enumerate (product_array):\n",
    "    target = product[1].split(\" \")\n",
    "    new_str = []\n",
    "    for kk in target:\n",
    "        matchname = p.match(kk)\n",
    "        if matchname == None:\n",
    "            new_str.append(kk)\n",
    "            new_str.append(\" \")\n",
    "    new_str = ''.join(new_str)\n",
    "#     print(product_array[i][1])\n",
    "#     print(new_str)\n",
    "    product_array[i][1] = new_str\n",
    "\n",
    "\n",
    "openmarket_list = []\n",
    "for i, openmarket in enumerate(openmarket_array):\n",
    "    target = openmarket[2].split(\" \")\n",
    "#     print(target)\n",
    "    new_str = []\n",
    "    for kk in target:\n",
    "        matchname = p.match(kk)\n",
    "        if matchname == None:\n",
    "            new_str.append(kk)\n",
    "            new_str.append(\" \")\n",
    "    new_str = ''.join(new_str)\n",
    "#     print(openmarket_array[i][2])\n",
    "#     print(new_str)\n",
    "    openmarket_array[i][2] = new_str"
   ]
  },
  {
   "cell_type": "code",
   "execution_count": 38,
   "metadata": {},
   "outputs": [],
   "source": [
    "def blankSearch(name, nameLen, stack, blanklist, templist):\n",
    "    for i in range(nameLen):\n",
    "        if name[i] == '(':\n",
    "            stack.append(i)\n",
    "            templist.append(i)\n",
    "        elif name[i] == ')' and len(stack) != 0:\n",
    "            blanklist.append(stack.pop()),\n",
    "            blanklist.append(i)\n",
    "\n",
    "    stack = []\n",
    "    templist = []\n",
    "    for i in range(nameLen):\n",
    "        if name[i] == '[':\n",
    "            stack.append(i)\n",
    "            templist.append(i),\n",
    "        elif name[i] == ']' and len(stack) != 0:\n",
    "            blanklist.append(stack.pop())\n",
    "            blanklist.append(i)"
   ]
  },
  {
   "cell_type": "code",
   "execution_count": 39,
   "metadata": {},
   "outputs": [],
   "source": [
    "codelist = [] # 제품코드 추출할 리스트\n",
    "printlist = []\n",
    "for i, openmarket in enumerate (openmarket_array):\n",
    "    name = openmarket[2] # 상품명\n",
    "    nameLen = len(name) # 상품명 길이\n",
    "\n",
    "    # 괄호 구하기 위한 리스트\n",
    "    stack = []\n",
    "    blanklist = []\n",
    "    templist = []\n",
    "    \n",
    "    blankSearch(name, nameLen, stack, blanklist, templist)\n",
    "    # 정규식 사용하여 제품코드 추출하기\n",
    "    blankLen = len(blanklist)\n",
    "    blankLen = (int)(blankLen/2)\n",
    "    linelist = []\n",
    "    for k in range(blankLen):   # 괄호만큼 돈다.\n",
    "        pre = blanklist[k*2]\n",
    "        post = blanklist[k*2+1]\n",
    "        tempname = name[pre:post+1]\n",
    "        printlist.append(tempname)\n",
    "    for word in printlist:\n",
    "        name = name.replace(word, \" \")\n",
    "    name = name.lstrip()\n",
    "    openmarket_array[i][2] = name\n",
    "    openmarket_array[i][2]\n"
   ]
  },
  {
   "cell_type": "code",
   "execution_count": 40,
   "metadata": {},
   "outputs": [],
   "source": [
    "import re\n",
    "df_name = df_openmarket.iloc[:,[2]]\n",
    "# print(openmarket_array)\n",
    "# df_sample2 = df.iloc[:,[1]]\n",
    "# df_len = len(df_name)\n",
    "df_len = len(openmarket_array)\n",
    "cnt = 0\n",
    "example=df_name.head(df_len)\n",
    "p = re.compile('[a-zA-Z]*[0-9]+[a-zA-Z0-9]*[_]?[W]?[a-zA-Z]*[0-9]+[a-zA-Z0-9]*[_]?[W]?[a-zA-Z]*[0-9]+[a-zA-Z0-9]*')\n",
    "# p = re.compile('[^ ㄱ-ㅣ가-힣]')\n",
    "answer= []\n",
    "while cnt != df_len:\n",
    "    name = openmarket_array[cnt][2]\n",
    "#     print(name)\n",
    "    cnt = cnt+1\n",
    "    res = p.search(name)\n",
    "#     print(name)\n",
    "#     print(res)\n",
    "    if res != None and len(res.group()) >= 5:\n",
    "        name = name.replace(res.group(), \" \")\n",
    "    openmarket_array[cnt-1][2] = name\n"
   ]
  },
  {
   "cell_type": "code",
   "execution_count": 41,
   "metadata": {},
   "outputs": [],
   "source": [
    "relists = []\n",
    "f = open(\"./relist.txt\", 'r', encoding='utf-8')\n",
    "lines = f.read().splitlines()\n",
    "for line in lines:\n",
    "    relists.append(line)\n",
    "f.close()"
   ]
  },
  {
   "cell_type": "code",
   "execution_count": 42,
   "metadata": {},
   "outputs": [],
   "source": [
    "for i in range(len(openmarket_array)):\n",
    "    pro_name = openmarket_array[i][2]\n",
    "    for relist in relists:\n",
    "        reg = re.compile(relist)\n",
    "        searching = reg.search(pro_name)\n",
    "        if searching != None:\n",
    "            if searching.group() != '자카드' or searching.group() != '쟈카드':\n",
    "                openmarket_array[i][2] = pro_name.replace(searching.group(), ' ')"
   ]
  },
  {
   "cell_type": "code",
   "execution_count": 43,
   "metadata": {},
   "outputs": [],
   "source": [
    "notuses = []\n",
    "f = open(\"./notuse.txt\", 'r',encoding='utf-8')\n",
    "lines = f.read().splitlines()\n",
    "for line in lines:\n",
    "    notuses.append(line)\n",
    "f.close()\n"
   ]
  },
  {
   "cell_type": "code",
   "execution_count": 44,
   "metadata": {},
   "outputs": [
    {
     "data": {
      "text/plain": [
       "100"
      ]
     },
     "execution_count": 44,
     "metadata": {},
     "output_type": "execute_result"
    }
   ],
   "source": [
    "brandlists = np.array(df_product['브랜드'])\n",
    "brandlists\n",
    "len(brandlists)"
   ]
  },
  {
   "cell_type": "code",
   "execution_count": 45,
   "metadata": {},
   "outputs": [
    {
     "data": {
      "text/plain": [
       "18"
      ]
     },
     "execution_count": 45,
     "metadata": {},
     "output_type": "execute_result"
    }
   ],
   "source": [
    "brandlist_set = set(brandlists)\n",
    "brandlist_set\n",
    "len(brandlist_set)"
   ]
  },
  {
   "cell_type": "code",
   "execution_count": 46,
   "metadata": {},
   "outputs": [],
   "source": [
    "for i in range(len(openmarket_array)):\n",
    "    pro_name = openmarket_array[i][2]\n",
    "    for notuse in notuses:\n",
    "        if notuse.upper() in pro_name.upper():\n",
    "            pro_name = pro_name.upper().replace(notuse.upper(), ' ')\n",
    "    for brandlist in brandlists:\n",
    "        if brandlist.upper() in pro_name.upper():\n",
    "            pro_name = pro_name.upper().replace(brandlist.upper(), ' ')\n",
    "    pro_name = ' '.join(pro_name.split())\n",
    "    openmarket_array[i][2] = pro_name"
   ]
  },
  {
   "cell_type": "code",
   "execution_count": 47,
   "metadata": {
    "scrolled": true
   },
   "outputs": [
    {
     "name": "stdout",
     "output_type": "stream",
     "text": [
      "남성 쿨 배쏙티 2단계 보정나시 (블랙) \n",
      "슬림 보정 올인원 \n",
      "복부 이중 와이어 A컵 치마 올인원 \n",
      "런닝형 소프트타입 바디슈트 \n",
      "웨이브헴 문직샤틴 숏거들 \n",
      "파워망 초 슬림 누디 사각거들 \n",
      "복부 이중 와이어 A컵 치마 올인원 \n",
      "허리 4cm밴드 보정 니퍼 \n",
      "마미써포트 산전용 거들 \n",
      "라이크라 올인원 (라이트브라운) \n",
      "와이어 올인원 바디슈트 \n",
      "문직사틴 햄 소프트 삼각거들 (블랙) \n",
      "문직사틴 햄 소프트 삼각거들 (블랙) \n",
      "인견 무빙 올인원 \n",
      "노몰드 와이어 올인원 \n",
      "기능성 올인원 \n",
      "면 헴소재 소프트 팬티형 거들 \n",
      "파워넷 무봉제 삼각거들 \n",
      "런닝형 풀컵 바디쉐이퍼 \n",
      "트리플 밸런스업 지퍼란쥬팬티 2종세트 \n",
      "하드타입 숏거들 \n",
      "사이드 힙패드 사각거들 \n",
      "자가드 라이크라 쉐이퍼 \n",
      "런닝형 소프트타입 바디슈트 \n",
      "ONCORE 하이웨스트 거들 \n",
      "소프트 타입 스탠다드 사각거들 \n",
      "트리플보정 지퍼란쥬4종 팬티8종 풀패키지 RO29/RHP02 \n",
      "인견 란쥬 쉐이퍼 4세트 \n",
      "하드타입 풀컵 올인원 \n",
      "슬림 보정 올인원 \n",
      "파워넷 레이스 복대 거들 \n",
      "지퍼 치마쉐이퍼 \n",
      "레이스 복대 \n",
      "허니 브라이덜 가터 \n",
      "런닝형 지퍼 올인원 \n",
      "런닝형 지퍼 올인원 \n",
      "보정 바디쉐이퍼 \n",
      "기능성 힙업 삼각 뽕거들 \n",
      "문직 파워네트 바디쉐이퍼 \n",
      "하드타입 풀컵 올인원 \n",
      "소프트 쇼트거들 \n",
      "여성 스키나 거들삼각 (블랙) \n",
      "런닝형 지퍼 올인원 \n",
      "사이드 힙패드 사각거들 \n",
      "문직 파워네트 바디쉐이퍼 \n",
      "파워샤틴 사각거들 \n",
      "모달 컵란쥬 \n",
      "베리섹시 가터 벨트 \n",
      "베리섹시 가터 벨트 \n",
      "미듐타입 문직 사틴 올인원 \n",
      "파워샤틴 사각거들 \n",
      "파워네트원단 웨이스트니퍼 \n",
      "복부 이중 와이어 A컵 치마 올인원 \n",
      "기능성 힙업 사각 뽕거들 \n",
      "올인원 바디수트 \n",
      "파워샤틴 사각거들 \n",
      "하이웨이스트 레이스 자가드 사각거들 \n",
      "파워네트 올인원 \n",
      "허니 브라이덜 가터벨트 \n",
      "하이플렉스 바디쉐이퍼 \n",
      "하드타입 스탠다드 사각거들 \n",
      "미디움 쇼트 거들 (스킨) \n",
      "하드타입 풀컵 올인원 \n",
      "기능성 힙업 사각 뽕거들 \n",
      "풀컵 하드타입 런닝형 올인원 \n",
      "슬림 보정 올인원 \n",
      "모달 컵란쥬 \n",
      "내추럴 케어 풀컵 올인원 \n",
      "하드타입 스탠다드 사각거들 \n",
      "배쏙티 3단계 보정나시 아이보리 멜란지 2종세트 \n",
      "문직 파워네트 바디쉐이퍼 \n",
      "레이스 가터벨트 \n",
      "밸런스업 모달 패키지 8종 RO28 \n",
      "런닝형 지퍼 올인원 \n",
      "바디미 웨이스트 롱 사각거들 \n",
      "몰드타입 바디쉐이퍼 \n",
      "웨이브헴 문직샤틴 숏거들 \n",
      "슬림 보정 올인원 \n",
      "노몰드 와이어 올인원 \n",
      "파워넷 무봉제 바디쉐이퍼 \n",
      "섹시이브 가터벨트 \n",
      "리리아 가터벨트 \n",
      "파워넷 삼각거들 \n",
      "런닝형 지퍼 올인원 \n",
      "누디 체형보정 삼각 거들 \n",
      "기능성 라이크라 사각 거들 \n",
      "기능성 라이크라 사각 거들 \n",
      "기능성 라이크라 사각 거들 \n",
      "노몰드 와이어 올인원 \n",
      "복부 이중덧댐 누디라인 사각 골반 숏거들 \n",
      "하드타입 숏거들 \n",
      "문직 파워네트 바디쉐이퍼 \n",
      "내추럴 케어 풀컵 올인원 \n",
      "노라인 소프트 거들스타일 팬티 \n",
      "면 헴소재 소프트 팬티형 거들 \n",
      "파워넷 노몰드 치마 올인원 \n",
      "히트 배쏙티 1단계 (버건디) \n",
      "풀컵 하드타입 런닝형 올인원 \n",
      "크레오라 모달 쉐이핑 집업 란쥬 팬티 8종 세트 \n",
      "사각거들 \n"
     ]
    }
   ],
   "source": [
    "for t in product_array:\n",
    "    print(t[1])"
   ]
  },
  {
   "cell_type": "code",
   "execution_count": 48,
   "metadata": {
    "scrolled": true
   },
   "outputs": [
    {
     "name": "stdout",
     "output_type": "stream",
     "text": [
      "WOX 남성 쿨 배쏙티 2단계 보정속옷 보정나시 블랙\n",
      "강한원단으로 몸매를 예쁘게 런닝형 쉐이퍼\n",
      "GG3zS2 이중 와이어 B컵 치마올인원\n",
      "샬루트 런닝형 소프트 타입 바디 쉐이퍼\n",
      "문직 샤틴 볼륨업 삼각거들\n",
      "WS IL 파워망 초 슬림 누디 사각거들\n",
      "SW 매쉬 B컵 빅사이즈 치마 올인원\n",
      "허리4CM밴드 보정니퍼 64\n",
      "자스민 마미써포트 산전용 거들 L.JGR\n",
      "라이크라 뷰티 기능성 올인원\n",
      "파워넷 상체보정힙업 올인원 바디슈트\n",
      "미듐타입 쇼트거들\n",
      "미듐타입 쇼트거들\n",
      "80B 95B/인견 무빙 올인원 바디슈트1종\n",
      "노몰드와이어 A컵 올인원\n",
      "LV 기능성 올인원 1종\n",
      "면 햄소재 팬티형 삼각거들\n",
      "통기성이 좋은 파워넷 무봉제 삼각거들\n",
      "우아한 플라워 미디움타입 문직 사틴 패드 쉐이퍼 1택C컵D컵\n",
      "트리플 밸런스업 지퍼란쥬팬티 세트\n",
      "햄 파워네트 하드타입 삼각거들\n",
      "DB 사이드 힙패드거들 골반거들\n",
      "체형보정 라이크라 바디슈트 치마올인원\n",
      "분당점 A B컵 여성 런닝형 살루트 소프트 올인원\n",
      "O ORE 하이웨스트 미드따이 쇼츠 강한보정 거들\n",
      "힙업 소프트 거들\n",
      "트리플보정 지퍼란쥬4종 팬티8종 풀패키지\n",
      "라미카 인견 보정 란쥬쉐이퍼 4세트 패키지 보정속옷\n",
      "CD컵 보정력이 좋은 올인원\n",
      "DB 강한 몸매보정 런닝형 파워 올인원\n",
      "파워넷 레이스 복대 거들\n",
      "지퍼 치마쉐이퍼\n",
      "날씬한 허리라인 레이스 복대\n",
      "허니 브라이덜 가터벨트\n",
      "하드타입 앞지퍼 탄탄보정 올인원 CD\n",
      "런닝형 지퍼 바디수트 AB컵\n",
      "DB 보정풀컵런닝형바디쉐이퍼\n",
      "DB 자연스러운 엉덩이볼륨 뽕패드 힙거들\n",
      "A B컵 여성 문직 파워네트 바디쉐이퍼\n",
      "E컵 자카드 햄 파워네트 하드타입 올인원\n",
      "소프트쇼트거들\n",
      "여성 스키나 거들삼각BK\n",
      "런닝형 지퍼올인원\n",
      "여성 사이드 힙패드 거들\n",
      "여성 문직 파워네트 바디쉐이퍼\n",
      "아랫배를 엉덩이 사각거들\n",
      "패드브라런닝\n",
      "베리 섹시 가터벨트\n",
      "베리 섹시 가터벨트\n",
      "풀컵 미듐타입 문직 사틴 올인원C D컵\n",
      "사각거들\n",
      "기능성 지퍼형니퍼\n",
      "eR3tb5 B컵치마올인원 이중복부 빅사이즈\n",
      "완벽한 힙볼륨업 보정형 힙패드 사각거들\n",
      "가볍고 시원한 다이어트 보정 올인원\n",
      "사각거들거들사각거들보정속옷\n",
      "하이웨이스트 복부보정 레이스 쟈가드 사각거들\n",
      "분당점 A B컵 여성 문직 파워네트 올인원\n",
      "퓨어 화이트 블랙 가터벨트\n",
      "하이플렉스 B컵 여성 바디쉐이퍼\n",
      "강한 하드타입 스탠다드 사각거들 BK\n",
      ".문직 파워네트 햄 삼각거들\n",
      "하드타입 파워네트 올인원\n",
      "파워 엉덩이뽕 사각거들\n",
      "DB 매끈한 바디라인 블랙 올인원 AB컵 (\n",
      "하드타입런닝형 올인원 CD컵\n",
      "부드럽고 편안한 컵란쥬\n",
      "네츄럴케어원단 스트랍 파워네트 D컵 올인원\n",
      ".복부보정 힙업 하드타입 거들\n",
      "남성 배쏙티 3단계 보정나시 아이보리 멜란지 세트\n",
      "AB컵 런닝형 미디움스타일 햄라인올인원\n",
      "화이트 레이스 가터벨트\n",
      "밸런스업 모달 패키지 8종\n",
      "하드타입 앞지퍼 탄탄보정 올인원 AB\n",
      "바디미 세미롱 웨이스트 사각거들\n",
      "실루엣도 기능도업 몰드형바디쉐이프\n",
      "웨이브헴 문직샤틴 숏거들\n",
      "몸매라이을 올인원AB컵 1택일( SK/DB\n",
      "와이어 빅사이즈 B컵올인원\n",
      "통기성이 좋은 파워넷 무봉제 바디쉐이퍼\n",
      "비즈레이스 가터벨트\n",
      "리리아 가터벨트\n",
      "SS 파워넷 삼각거들 1종\n",
      ")가슴을 완전히 감싸주는 런닝형 지퍼 올인원\n",
      "이중 보정효과 소프트 숏거들 pgr\n",
      "기능성 라이크라 레이스 사각거들\n",
      "기능성 라이크라 레이스 사각거들\n",
      "기능성 라이크라 레이스 사각거들 1택( DG\n",
      "노몰드와이어 올인원\n",
      "복부 누디 사각 골반 숏거들\n",
      "하드타입 파워네트 햄라인 삼각거들\n",
      "미디움 스타일 런닝형 바디쉐이퍼\n",
      "풀사이드 스트레치 기능성올인원\n",
      "말리지않는 롱 사각팬티\n",
      "VENUS 면 헴소재 소프트 팬티형 삼각거들\n",
      "KN5kR5 올인원 치마 파워넷 노몰드\n",
      "히트 배쏙티 1단계 보정속옷 보정나시 버건디\n",
      "C,D컵 풀컵 하드타입 런닝형 어깨끈 올인원\n",
      "크레오라 모달 쉐이핑 집업 란쥬 팬티 8종\n",
      "남영 몸매보정 복부보정 사각거들 사각거들\n"
     ]
    }
   ],
   "source": [
    "for t in openmarket_array:\n",
    "    print(t[2])"
   ]
  },
  {
   "cell_type": "markdown",
   "metadata": {},
   "source": [
    "### 외부데이터 불용어 제거"
   ]
  },
  {
   "cell_type": "markdown",
   "metadata": {},
   "source": [
    "### 상품명 word 자르기"
   ]
  },
  {
   "cell_type": "code",
   "execution_count": 49,
   "metadata": {},
   "outputs": [
    {
     "name": "stdout",
     "output_type": "stream",
     "text": [
      "product_words =  129\n",
      "openmarket_words =  237\n"
     ]
    }
   ],
   "source": [
    "product_words = []\n",
    "openmarket_words = []\n",
    "\n",
    "for text in product_array:\n",
    "    for word in text[1].split(' '):\n",
    "        product_words.append(word)\n",
    "product_words = set(product_words)\n",
    "print(\"product_words = \", len(product_words))\n",
    "\n",
    "for text in openmarket_array:\n",
    "    for word in text[2].split(' '):\n",
    "        openmarket_words.append(word)\n",
    "# openmarket_words\n",
    "openmarket_words = set(openmarket_words)\n",
    "# openmarket_words\n",
    "print(\"openmarket_words = \", len(openmarket_words))"
   ]
  },
  {
   "cell_type": "markdown",
   "metadata": {},
   "source": [
    "### Word2Vec을 위한 상품명 단어 split"
   ]
  },
  {
   "cell_type": "code",
   "execution_count": 50,
   "metadata": {},
   "outputs": [],
   "source": [
    "product_search = []\n",
    "product_sentences = []\n",
    "for sentence in product_array:\n",
    "#     print(sentence[1])\n",
    "    product_code = []\n",
    "    product_code.append(sentence[0])\n",
    "    product_code.append(sentence[1].lower().split())\n",
    "    product_sentences.append(sentence[1].lower().split())\n",
    "    product_search.append(product_code)\n",
    "# print(product_sentences)\n",
    "\n",
    "openmarket_search = []\n",
    "openmarket_sentences = []\n",
    "for sentence in openmarket_array:\n",
    "    openmarket_code = []\n",
    "    openmarket_code.append(sentence[1])\n",
    "    openmarket_code.append(sentence[2].lower().split())\n",
    "    openmarket_sentences.append(sentence[2].lower().split())\n",
    "    openmarket_search.append(openmarket_code)\n",
    "# print(openmarket_search)\n",
    "\n",
    "totalsearch = []\n",
    "totalsearch = product_search + openmarket_search\n",
    "totalsentences = product_sentences + openmarket_sentences\n",
    "# totalsearch"
   ]
  },
  {
   "cell_type": "code",
   "execution_count": 51,
   "metadata": {},
   "outputs": [],
   "source": [
    "product_code = []\n",
    "product_sentences = []\n",
    "for sentence in product_array:\n",
    "#     print(sentence[1])\n",
    "    product_code.append(sentence[0])\n",
    "    product_sentences.append(sentence[1].lower().split())\n",
    "#     print(product_code)\n",
    "#     print(product_sentences)\n",
    "\n",
    "\n",
    "openmarket_code = []\n",
    "openmarket_sentences = []\n",
    "for sentence in openmarket_array:\n",
    "    openmarket_code.append(sentence[1])\n",
    "    openmarket_sentences.append(sentence[2].lower().split())\n",
    "#     print(openmarket_code)\n",
    "#     print(openmarket_search)\n",
    "\n",
    "# totalsearch = []\n",
    "# totalsearch = product_search + openmarket_search\n",
    "# totalsentences = product_sentences + openmarket_sentences\n",
    "# totalsearch"
   ]
  },
  {
   "cell_type": "markdown",
   "metadata": {},
   "source": [
    "### Word2Vec"
   ]
  },
  {
   "cell_type": "code",
   "execution_count": 52,
   "metadata": {},
   "outputs": [
    {
     "name": "stderr",
     "output_type": "stream",
     "text": [
      "C:\\ProgramData\\Anaconda3\\envs\\newPJT3\\lib\\site-packages\\gensim\\utils.py:1197: UserWarning: detected Windows; aliasing chunkize to chunkize_serial\n",
      "  warnings.warn(\"detected Windows; aliasing chunkize to chunkize_serial\")\n"
     ]
    },
    {
     "name": "stdout",
     "output_type": "stream",
     "text": [
      "3.4.0\n"
     ]
    }
   ],
   "source": [
    "import gensim\n",
    "print(gensim.__version__)"
   ]
  },
  {
   "cell_type": "code",
   "execution_count": 53,
   "metadata": {},
   "outputs": [
    {
     "data": {
      "text/plain": [
       "<gensim.models.word2vec.Word2Vec at 0x1a102f628d0>"
      ]
     },
     "execution_count": 53,
     "metadata": {},
     "output_type": "execute_result"
    }
   ],
   "source": [
    "from gensim.models import Word2Vec\n",
    "model = Word2Vec(totalsentences, window=8, min_count=1, workers=4)\n",
    "model"
   ]
  },
  {
   "cell_type": "markdown",
   "metadata": {},
   "source": [
    "## WMD"
   ]
  },
  {
   "cell_type": "code",
   "execution_count": 54,
   "metadata": {},
   "outputs": [
    {
     "name": "stdout",
     "output_type": "stream",
     "text": [
      "0.5.1\n"
     ]
    }
   ],
   "source": [
    "import pyemd\n",
    "print(pyemd.__version__)"
   ]
  },
  {
   "cell_type": "code",
   "execution_count": 55,
   "metadata": {
    "scrolled": true
   },
   "outputs": [
    {
     "name": "stderr",
     "output_type": "stream",
     "text": [
      "C:\\ProgramData\\Anaconda3\\envs\\newPJT3\\lib\\site-packages\\ipykernel_launcher.py:19: DeprecationWarning: Call to deprecated `wmdistance` (Method will be removed in 4.0.0, use self.wv.wmdistance() instead).\n"
     ]
    },
    {
     "name": "stdout",
     "output_type": "stream",
     "text": [
      "Cell took 4.20 seconds to run.\n"
     ]
    }
   ],
   "source": [
    "import time\n",
    "import os\n",
    "start = time.time()\n",
    "\n",
    "from gensim.models import Word2Vec\n",
    "\n",
    "result = []\n",
    "\n",
    "for j, openmarket in enumerate(openmarket_search):\n",
    "    min = 1\n",
    "    \n",
    "    res_openmarketindex = openmarket[0]\n",
    "    res_openmarketname = openmarket[1]\n",
    "    res_productname = \"\"\n",
    "    res_productidnex = -1\n",
    "    res_distance = 1\n",
    "    \n",
    "    for i, product in enumerate(product_search):\n",
    "        distance = model.wmdistance(openmarket[1], product[1])\n",
    "        if(min > distance):\n",
    "            min = distance\n",
    "            res_productname = product[1]\n",
    "            res_productindex = product[0]\n",
    "            res_distance = distance\n",
    "    \n",
    "    res_openmarketname = ' '.join(res_openmarketname)\n",
    "    res_productname = ' '.join(res_productname)\n",
    "    \n",
    "    temp = []\n",
    "    result.append([res_openmarketindex,res_openmarketname,res_productindex,res_productname,res_distance])\n",
    "    \n",
    "print ('Cell took %.2f seconds to run.' %(time.time() - start))"
   ]
  },
  {
   "cell_type": "markdown",
   "metadata": {},
   "source": [
    "### 정답 상품 찾기"
   ]
  },
  {
   "cell_type": "code",
   "execution_count": 56,
   "metadata": {},
   "outputs": [],
   "source": [
    "res_pcode = []\n",
    "res_pname = []\n",
    "res_check = []\n",
    "for target in result:\n",
    "    openmarket_code = target[0]\n",
    "    link = df_link[df_link['제휴사 상품 코드'] == openmarket_code]\n",
    "    product_code = link.iloc[0,0]\n",
    "    pname = df_product[df_product['상품 코드'] == product_code]['상품명']\n",
    "    res_pcode.append(product_code)\n",
    "    res_pname.append(pname.iloc[0])\n",
    "    if(target[2] == product_code):\n",
    "        res_check.append(True)\n",
    "    else:\n",
    "        res_check.append(False)"
   ]
  },
  {
   "cell_type": "code",
   "execution_count": 57,
   "metadata": {},
   "outputs": [],
   "source": [
    "# result"
   ]
  },
  {
   "cell_type": "code",
   "execution_count": 58,
   "metadata": {},
   "outputs": [],
   "source": [
    "df_result = pd.DataFrame(result, columns=[\"외부 상품 코드\",\"외부 상품명\",\"비교 상품 코드\",\"비교 상품명\",\"거리\"])\n",
    "df_result.insert(4,'실 내부 코드',res_pcode)\n",
    "df_result.insert(5,'실 내부 상품명',res_pname)\n",
    "df_result.insert(6,'일치 여부',res_check)"
   ]
  },
  {
   "cell_type": "code",
   "execution_count": 59,
   "metadata": {},
   "outputs": [
    {
     "name": "stdout",
     "output_type": "stream",
     "text": [
      "46.0 %\n"
     ]
    }
   ],
   "source": [
    "print(len(df_result[df_result['일치 여부'] == True])/len(result)*100, \"%\")"
   ]
  },
  {
   "cell_type": "code",
   "execution_count": 60,
   "metadata": {},
   "outputs": [
    {
     "name": "stdout",
     "output_type": "stream",
     "text": [
      "100 개 중 분류된 상품 100\n",
      "신뢰도 0.46 %\n"
     ]
    }
   ],
   "source": [
    "all = 0\n",
    "count = 0\n",
    "distance = 1\n",
    "for find in range(len(df_result)):\n",
    "    if(df_result['거리'].iloc[find] < distance):\n",
    "        if df_result['일치 여부'].iloc[find]:\n",
    "            count +=1\n",
    "        all += 1\n",
    "print(len(df_result),\"개 중 분류된 상품\", all)\n",
    "# print(\"all = \", all)\n",
    "# print(\"count = \", count)\n",
    "print(\"신뢰도\",count/all, \"%\")"
   ]
  },
  {
   "cell_type": "code",
   "execution_count": 62,
   "metadata": {},
   "outputs": [
    {
     "data": {
      "text/html": [
       "<div>\n",
       "<style scoped>\n",
       "    .dataframe tbody tr th:only-of-type {\n",
       "        vertical-align: middle;\n",
       "    }\n",
       "\n",
       "    .dataframe tbody tr th {\n",
       "        vertical-align: top;\n",
       "    }\n",
       "\n",
       "    .dataframe thead th {\n",
       "        text-align: right;\n",
       "    }\n",
       "</style>\n",
       "<table border=\"1\" class=\"dataframe\">\n",
       "  <thead>\n",
       "    <tr style=\"text-align: right;\">\n",
       "      <th></th>\n",
       "      <th>외부 상품 코드</th>\n",
       "      <th>외부 상품명</th>\n",
       "      <th>비교 상품 코드</th>\n",
       "      <th>비교 상품명</th>\n",
       "      <th>실 내부 코드</th>\n",
       "      <th>실 내부 상품명</th>\n",
       "      <th>일치 여부</th>\n",
       "      <th>거리</th>\n",
       "    </tr>\n",
       "  </thead>\n",
       "  <tbody>\n",
       "    <tr>\n",
       "      <th>0</th>\n",
       "      <td>1760821404</td>\n",
       "      <td>wox 남성 쿨 배쏙티 2단계 보정속옷 보정나시 블랙</td>\n",
       "      <td>12412565</td>\n",
       "      <td>남성 쿨 배쏙티 2단계 보정나시 (블랙)</td>\n",
       "      <td>12412565</td>\n",
       "      <td>남성 쿨 배쏙티 2단계 보정나시 (블랙)</td>\n",
       "      <td>True</td>\n",
       "      <td>0.015213</td>\n",
       "    </tr>\n",
       "    <tr>\n",
       "      <th>1</th>\n",
       "      <td>B879729036</td>\n",
       "      <td>강한원단으로 몸매를 예쁘게 런닝형 쉐이퍼</td>\n",
       "      <td>11146647</td>\n",
       "      <td>런닝형 풀컵 바디쉐이퍼</td>\n",
       "      <td>11915329</td>\n",
       "      <td>슬림 보정 올인원 VBTH102</td>\n",
       "      <td>False</td>\n",
       "      <td>0.031912</td>\n",
       "    </tr>\n",
       "    <tr>\n",
       "      <th>2</th>\n",
       "      <td>1336929889_1336929889</td>\n",
       "      <td>gg3zs2 이중 와이어 b컵 치마올인원</td>\n",
       "      <td>4054078</td>\n",
       "      <td>복부 이중 와이어 a컵 치마 올인원</td>\n",
       "      <td>4054078</td>\n",
       "      <td>복부 이중 와이어 A컵 치마 올인원 BS6003</td>\n",
       "      <td>True</td>\n",
       "      <td>0.026601</td>\n",
       "    </tr>\n",
       "    <tr>\n",
       "      <th>3</th>\n",
       "      <td>6741830350</td>\n",
       "      <td>샬루트 런닝형 소프트 타입 바디 쉐이퍼</td>\n",
       "      <td>10712463</td>\n",
       "      <td>소프트 타입 스탠다드 사각거들</td>\n",
       "      <td>10991340</td>\n",
       "      <td>런닝형 소프트타입 바디슈트 DBT0605</td>\n",
       "      <td>False</td>\n",
       "      <td>0.026648</td>\n",
       "    </tr>\n",
       "    <tr>\n",
       "      <th>4</th>\n",
       "      <td>1826792024</td>\n",
       "      <td>문직 샤틴 볼륨업 삼각거들</td>\n",
       "      <td>11209521</td>\n",
       "      <td>미듐타입 문직 사틴 올인원</td>\n",
       "      <td>11592290</td>\n",
       "      <td>웨이브헴 문직샤틴 숏거들 VGRM100S</td>\n",
       "      <td>False</td>\n",
       "      <td>0.029527</td>\n",
       "    </tr>\n",
       "    <tr>\n",
       "      <th>...</th>\n",
       "      <td>...</td>\n",
       "      <td>...</td>\n",
       "      <td>...</td>\n",
       "      <td>...</td>\n",
       "      <td>...</td>\n",
       "      <td>...</td>\n",
       "      <td>...</td>\n",
       "      <td>...</td>\n",
       "    </tr>\n",
       "    <tr>\n",
       "      <th>95</th>\n",
       "      <td>1260433772_1260433772</td>\n",
       "      <td>kn5kr5 올인원 치마 파워넷 노몰드</td>\n",
       "      <td>4054329</td>\n",
       "      <td>파워넷 노몰드 치마 올인원</td>\n",
       "      <td>4054329</td>\n",
       "      <td>파워넷 노몰드 치마 올인원 BS6807</td>\n",
       "      <td>True</td>\n",
       "      <td>0.008632</td>\n",
       "    </tr>\n",
       "    <tr>\n",
       "      <th>96</th>\n",
       "      <td>7256698418</td>\n",
       "      <td>히트 배쏙티 1단계 보정속옷 보정나시 버건디</td>\n",
       "      <td>12461549</td>\n",
       "      <td>히트 배쏙티 1단계 (버건디)</td>\n",
       "      <td>12461549</td>\n",
       "      <td>히트 배쏙티 1단계 (버건디)</td>\n",
       "      <td>True</td>\n",
       "      <td>0.020742</td>\n",
       "    </tr>\n",
       "    <tr>\n",
       "      <th>97</th>\n",
       "      <td>2839639641</td>\n",
       "      <td>c,d컵 풀컵 하드타입 런닝형 어깨끈 올인원</td>\n",
       "      <td>11665811</td>\n",
       "      <td>풀컵 하드타입 런닝형 올인원</td>\n",
       "      <td>11665811</td>\n",
       "      <td>풀컵 하드타입 런닝형 올인원 VBTH100</td>\n",
       "      <td>True</td>\n",
       "      <td>0.013642</td>\n",
       "    </tr>\n",
       "    <tr>\n",
       "      <th>98</th>\n",
       "      <td>1711039542</td>\n",
       "      <td>크레오라 모달 쉐이핑 집업 란쥬 팬티 8종</td>\n",
       "      <td>10342341</td>\n",
       "      <td>크레오라 모달 쉐이핑 집업 란쥬 팬티 8종 세트</td>\n",
       "      <td>10342341</td>\n",
       "      <td>크레오라 모달 쉐이핑 집업 란쥬 팬티 8종 세트 MR037</td>\n",
       "      <td>True</td>\n",
       "      <td>0.005142</td>\n",
       "    </tr>\n",
       "    <tr>\n",
       "      <th>99</th>\n",
       "      <td>2523942922</td>\n",
       "      <td>남영 몸매보정 복부보정 사각거들 사각거들</td>\n",
       "      <td>11732819</td>\n",
       "      <td>파워샤틴 사각거들</td>\n",
       "      <td>12504404</td>\n",
       "      <td>사각거들 DGR4842</td>\n",
       "      <td>False</td>\n",
       "      <td>0.024890</td>\n",
       "    </tr>\n",
       "  </tbody>\n",
       "</table>\n",
       "<p>100 rows × 8 columns</p>\n",
       "</div>"
      ],
      "text/plain": [
       "                 외부 상품 코드                         외부 상품명  비교 상품 코드  \\\n",
       "0              1760821404  wox 남성 쿨 배쏙티 2단계 보정속옷 보정나시 블랙  12412565   \n",
       "1              B879729036         강한원단으로 몸매를 예쁘게 런닝형 쉐이퍼  11146647   \n",
       "2   1336929889_1336929889         gg3zs2 이중 와이어 b컵 치마올인원   4054078   \n",
       "3              6741830350          샬루트 런닝형 소프트 타입 바디 쉐이퍼  10712463   \n",
       "4              1826792024                 문직 샤틴 볼륨업 삼각거들  11209521   \n",
       "..                    ...                            ...       ...   \n",
       "95  1260433772_1260433772          kn5kr5 올인원 치마 파워넷 노몰드   4054329   \n",
       "96             7256698418       히트 배쏙티 1단계 보정속옷 보정나시 버건디  12461549   \n",
       "97             2839639641       c,d컵 풀컵 하드타입 런닝형 어깨끈 올인원  11665811   \n",
       "98             1711039542        크레오라 모달 쉐이핑 집업 란쥬 팬티 8종  10342341   \n",
       "99             2523942922         남영 몸매보정 복부보정 사각거들 사각거들  11732819   \n",
       "\n",
       "                        비교 상품명   실 내부 코드                          실 내부 상품명  \\\n",
       "0       남성 쿨 배쏙티 2단계 보정나시 (블랙)  12412565            남성 쿨 배쏙티 2단계 보정나시 (블랙)   \n",
       "1                 런닝형 풀컵 바디쉐이퍼  11915329                 슬림 보정 올인원 VBTH102   \n",
       "2          복부 이중 와이어 a컵 치마 올인원   4054078        복부 이중 와이어 A컵 치마 올인원 BS6003   \n",
       "3             소프트 타입 스탠다드 사각거들  10991340            런닝형 소프트타입 바디슈트 DBT0605   \n",
       "4               미듐타입 문직 사틴 올인원  11592290            웨이브헴 문직샤틴 숏거들 VGRM100S   \n",
       "..                         ...       ...                               ...   \n",
       "95              파워넷 노몰드 치마 올인원   4054329             파워넷 노몰드 치마 올인원 BS6807   \n",
       "96            히트 배쏙티 1단계 (버건디)  12461549                  히트 배쏙티 1단계 (버건디)   \n",
       "97             풀컵 하드타입 런닝형 올인원  11665811           풀컵 하드타입 런닝형 올인원 VBTH100   \n",
       "98  크레오라 모달 쉐이핑 집업 란쥬 팬티 8종 세트  10342341  크레오라 모달 쉐이핑 집업 란쥬 팬티 8종 세트 MR037   \n",
       "99                   파워샤틴 사각거들  12504404                      사각거들 DGR4842   \n",
       "\n",
       "    일치 여부        거리  \n",
       "0    True  0.015213  \n",
       "1   False  0.031912  \n",
       "2    True  0.026601  \n",
       "3   False  0.026648  \n",
       "4   False  0.029527  \n",
       "..    ...       ...  \n",
       "95   True  0.008632  \n",
       "96   True  0.020742  \n",
       "97   True  0.013642  \n",
       "98   True  0.005142  \n",
       "99  False  0.024890  \n",
       "\n",
       "[100 rows x 8 columns]"
      ]
     },
     "execution_count": 62,
     "metadata": {},
     "output_type": "execute_result"
    }
   ],
   "source": [
    "df_result"
   ]
  },
  {
   "cell_type": "code",
   "execution_count": null,
   "metadata": {},
   "outputs": [],
   "source": []
  },
  {
   "cell_type": "code",
   "execution_count": null,
   "metadata": {},
   "outputs": [],
   "source": []
  }
 ],
 "metadata": {
  "kernelspec": {
   "display_name": "Python 3",
   "language": "python",
   "name": "python3"
  },
  "language_info": {
   "codemirror_mode": {
    "name": "ipython",
    "version": 3
   },
   "file_extension": ".py",
   "mimetype": "text/x-python",
   "name": "python",
   "nbconvert_exporter": "python",
   "pygments_lexer": "ipython3",
   "version": "3.6.12"
  }
 },
 "nbformat": 4,
 "nbformat_minor": 4
}
